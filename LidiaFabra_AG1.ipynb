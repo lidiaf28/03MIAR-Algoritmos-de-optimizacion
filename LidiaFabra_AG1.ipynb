{
 "cells": [
  {
   "cell_type": "markdown",
   "id": "062546e2-e2fd-480e-96a7-20dec0dae022",
   "metadata": {
    "id": "062546e2-e2fd-480e-96a7-20dec0dae022"
   },
   "source": [
    "**Lidia Fabra Cuenca**"
   ]
  },
  {
   "cell_type": "markdown",
   "id": "a7a659c7-7c07-41db-8f09-58b7fa43d5e1",
   "metadata": {
    "id": "a7a659c7-7c07-41db-8f09-58b7fa43d5e1"
   },
   "source": [
    "# Actividad Guiada 1\n"
   ]
  },
  {
   "cell_type": "markdown",
   "id": "d7a1de38-17ad-496b-9bb5-6f48735c7644",
   "metadata": {
    "id": "d7a1de38-17ad-496b-9bb5-6f48735c7644"
   },
   "source": [
    "## Torres de Hanoi con Divide y vencerás"
   ]
  },
  {
   "cell_type": "code",
   "execution_count": null,
   "id": "275cd384-63d0-4589-955e-54cac865d036",
   "metadata": {
    "id": "275cd384-63d0-4589-955e-54cac865d036",
    "outputId": "49f16d3e-095f-4f81-fa3c-8cd53af13017"
   },
   "outputs": [
    {
     "name": "stdout",
     "output_type": "stream",
     "text": [
      "Lleva la ficha  1  hasta  3\n",
      "Lleva la ficha  1  hasta  2\n",
      "Lleva la ficha  3  hasta  2\n",
      "Lleva la ficha  1  hasta  3\n",
      "Lleva la ficha  2  hasta  1\n",
      "Lleva la ficha  2  hasta  3\n",
      "Lleva la ficha  1  hasta  3\n",
      "Lleva la ficha  1  hasta  2\n",
      "Lleva la ficha  3  hasta  2\n",
      "Lleva la ficha  3  hasta  1\n",
      "Lleva la ficha  2  hasta  1\n",
      "Lleva la ficha  3  hasta  2\n",
      "Lleva la ficha  1  hasta  3\n",
      "Lleva la ficha  1  hasta  2\n",
      "Lleva la ficha  3  hasta  2\n",
      "Lleva la ficha  1  hasta  3\n",
      "Lleva la ficha  2  hasta  1\n",
      "Lleva la ficha  2  hasta  3\n",
      "Lleva la ficha  1  hasta  3\n",
      "Lleva la ficha  2  hasta  1\n",
      "Lleva la ficha  3  hasta  2\n",
      "Lleva la ficha  3  hasta  1\n",
      "Lleva la ficha  2  hasta  1\n",
      "Lleva la ficha  2  hasta  3\n",
      "Lleva la ficha  1  hasta  3\n",
      "Lleva la ficha  1  hasta  2\n",
      "Lleva la ficha  3  hasta  2\n",
      "Lleva la ficha  1  hasta  3\n",
      "Lleva la ficha  2  hasta  1\n",
      "Lleva la ficha  2  hasta  3\n",
      "Lleva la ficha  1  hasta  3\n"
     ]
    }
   ],
   "source": [
    "def Torres_Hanoi(N, desde, hasta):\n",
    "  if N ==1 :\n",
    "    print(\"Lleva la ficha \" ,desde , \" hasta \", hasta )\n",
    "\n",
    "  else:\n",
    "    #Torres_Hanoi(N-1, desde, 6-desde-hasta )\n",
    "    Torres_Hanoi(N-1, desde, 6-desde-hasta )#aqui utiliza el pivote para mover la ficha (desde->pivote)\n",
    "    print(\"Lleva la ficha \" ,desde , \" hasta \", hasta )\n",
    "    #Torres_Hanoi(N-1,6-desde-hasta, hasta )\n",
    "    Torres_Hanoi(N-1, 6-desde-hasta  , hasta )#vuelves a llamar a la funcion que mueve la ficha del pivote hasta destino final(pivote->hasta)\n",
    "\n",
    "Torres_Hanoi(5, 1 , 3)"
   ]
  },
  {
   "cell_type": "markdown",
   "id": "SmmIo5O9VQpt",
   "metadata": {
    "id": "SmmIo5O9VQpt"
   },
   "source": [
    "##Devolución de cambio por técnica voraz"
   ]
  },
  {
   "cell_type": "code",
   "execution_count": null,
   "id": "336f13fb-29da-40d3-980f-10fc62739c5b",
   "metadata": {
    "colab": {
     "base_uri": "https://localhost:8080/"
    },
    "executionInfo": {
     "elapsed": 221,
     "status": "ok",
     "timestamp": 1716885974556,
     "user": {
      "displayName": "Lidia Fabra",
      "userId": "13405305310269667507"
     },
     "user_tz": -120
    },
    "id": "336f13fb-29da-40d3-980f-10fc62739c5b",
    "outputId": "f754af29-f55b-4a42-e0f1-0d1036132939"
   },
   "outputs": [
    {
     "name": "stdout",
     "output_type": "stream",
     "text": [
      "Moneda introducida: 15\n",
      "Monedas disponibles:  [25, 10, 5, 1]\n",
      "Monedas devueltas de cada tipo : [0, 1, 1, 0]\n"
     ]
    }
   ],
   "source": [
    "def cambio_monedas(N, SM):\n",
    "  SOLUCION = [0]*len(SM)   #SOLUCION = [0,0,0,0,..]\n",
    "  ValorAcumulado = 0\n",
    "\n",
    "  for i,valor in enumerate(SM):\n",
    "    monedas =  (N-ValorAcumulado)//valor\n",
    "    SOLUCION[i] = monedas\n",
    "    ValorAcumulado = ValorAcumulado + monedas*valor\n",
    "\n",
    "    if ValorAcumulado == N:\n",
    "      return SOLUCION\n",
    "\n",
    "n=15\n",
    "print(\"Moneda introducida:\",n)\n",
    "tipo_monedas=[25,10,5,1]\n",
    "print(\"Monedas disponibles: \",tipo_monedas)\n",
    "print(\"Monedas devueltas de cada tipo :\",cambio_monedas(n,tipo_monedas))"
   ]
  },
  {
   "cell_type": "markdown",
   "id": "2qmkoyqbq4Kk",
   "metadata": {
    "id": "2qmkoyqbq4Kk"
   },
   "source": [
    "## N-Reinas por técnica de vueta atrás"
   ]
  },
  {
   "cell_type": "code",
   "execution_count": null,
   "id": "RbhOARdIlVz5",
   "metadata": {
    "colab": {
     "base_uri": "https://localhost:8080/"
    },
    "executionInfo": {
     "elapsed": 246,
     "status": "ok",
     "timestamp": 1716890642717,
     "user": {
      "displayName": "Lidia Fabra",
      "userId": "13405305310269667507"
     },
     "user_tz": -120
    },
    "id": "RbhOARdIlVz5",
    "outputId": "04265f4a-0dfa-4d11-cc56-5f73aa2b6685"
   },
   "outputs": [
    {
     "name": "stdout",
     "output_type": "stream",
     "text": [
      "[2, 4, 6, 1, 3, 5]\n",
      "\n",
      " -  -  -  X  -  - \n",
      " X  -  -  -  -  - \n",
      " -  -  -  -  X  - \n",
      " -  X  -  -  -  - \n",
      " -  -  -  -  -  X \n",
      " -  -  X  -  -  - \n",
      "[3, 6, 2, 5, 1, 4]\n",
      "\n",
      " -  -  -  -  X  - \n",
      " -  -  X  -  -  - \n",
      " X  -  -  -  -  - \n",
      " -  -  -  -  -  X \n",
      " -  -  -  X  -  - \n",
      " -  X  -  -  -  - \n",
      "[4, 1, 5, 2, 6, 3]\n",
      "\n",
      " -  X  -  -  -  - \n",
      " -  -  -  X  -  - \n",
      " -  -  -  -  -  X \n",
      " X  -  -  -  -  - \n",
      " -  -  X  -  -  - \n",
      " -  -  -  -  X  - \n",
      "[5, 3, 1, 6, 4, 2]\n",
      "\n",
      " -  -  X  -  -  - \n",
      " -  -  -  -  -  X \n",
      " -  X  -  -  -  - \n",
      " -  -  -  -  X  - \n",
      " X  -  -  -  -  - \n",
      " -  -  -  X  -  - \n"
     ]
    }
   ],
   "source": [
    "def escribe(S):\n",
    "  n = len(S)\n",
    "  for x in range(n):\n",
    "    print(\"\")\n",
    "    for i in range(n):\n",
    "      if S[i] == x+1:\n",
    "        print(\" X \" , end=\"\")\n",
    "      else:\n",
    "        print(\" - \", end=\"\")\n",
    "\n",
    "\n",
    "def es_prometedora(SOLUCION,etapa):\n",
    "  #print(SOLUCION)\n",
    "  #Si la solución tiene dos valores iguales no es valida => Dos reinas en la misma fila\n",
    "  for i in range(etapa+1):\n",
    "    #print(\"El valor \" + str(SOLUCION[i]) + \" está \" +  str(SOLUCION.count(SOLUCION[i])) + \" veces\")\n",
    "    if SOLUCION.count(SOLUCION[i]) > 1:\n",
    "      return False\n",
    "\n",
    "    #Verifica las diagonales\n",
    "    for j in range(i+1, etapa +1 ):\n",
    "      #print(\"Comprobando diagonal de \" + str(i) + \" y \" + str(j))\n",
    "      if abs(i-j) == abs(SOLUCION[i]-SOLUCION[j]) : return False\n",
    "  return True\n",
    "\n",
    "\n",
    "\n",
    "def reinas(N, solucion=[], etapa=0):\n",
    "  if len(solucion) == 0:\n",
    "      solucion=[0 for i in range(N)]\n",
    "\n",
    "  for i in range(1, N+1):\n",
    "    solucion[etapa] = i\n",
    "\n",
    "    if es_prometedora(solucion, etapa):\n",
    "      if etapa == N-1:\n",
    "        print(solucion)\n",
    "        escribe(solucion)\n",
    "        print()\n",
    "      else:\n",
    "        reinas(N, solucion, etapa+1)\n",
    "    else:\n",
    "      None\n",
    "\n",
    "    solucion[etapa] = 0\n",
    "\n",
    "reinas(6)"
   ]
  },
  {
   "cell_type": "markdown",
   "id": "CiZ_Bk7Crm-S",
   "metadata": {
    "id": "CiZ_Bk7Crm-S"
   },
   "source": [
    "## Viaje por el rio. Programación dinámica"
   ]
  },
  {
   "cell_type": "code",
   "execution_count": null,
   "id": "eCqtX8RMrn4U",
   "metadata": {
    "colab": {
     "base_uri": "https://localhost:8080/",
     "height": 365
    },
    "executionInfo": {
     "elapsed": 272,
     "status": "ok",
     "timestamp": 1716891400018,
     "user": {
      "displayName": "Lidia Fabra",
      "userId": "13405305310269667507"
     },
     "user_tz": -120
    },
    "id": "eCqtX8RMrn4U",
    "outputId": "13b26d3b-4a08-4ea7-e735-d71223fc2ca8"
   },
   "outputs": [
    {
     "name": "stdout",
     "output_type": "stream",
     "text": [
      "PRECIOS\n",
      "[0, 5, 4, 3, 8, 8, 11]\n",
      "[9999, 0, 999, 2, 3, 8, 7]\n",
      "[9999, 9999, 0, 1, 6, 4, 7]\n",
      "[9999, 9999, 9999, 0, 5, 6, 9]\n",
      "[9999, 9999, 9999, 9999, 0, 999, 4]\n",
      "[9999, 9999, 9999, 9999, 9999, 0, 3]\n",
      "[9999, 9999, 9999, 9999, 9999, 9999, 9999]\n",
      "\n",
      "RUTA\n",
      "[0, 0, 0, 0, 1, 2, 5]\n",
      "['', 1, 1, 1, 1, 3, 4]\n",
      "['', '', 2, 2, 3, 2, 5]\n",
      "['', '', '', 3, 3, 3, 3]\n",
      "['', '', '', '', 4, 4, 4]\n",
      "['', '', '', '', '', 5, 5]\n",
      "['', '', '', '', '', '', '']\n",
      "\n",
      "La ruta es:\n"
     ]
    },
    {
     "data": {
      "application/vnd.google.colaboratory.intrinsic+json": {
       "type": "string"
      },
      "text/plain": [
       "',0,2,5'"
      ]
     },
     "execution_count": 14,
     "metadata": {},
     "output_type": "execute_result"
    }
   ],
   "source": [
    "TARIFAS = [\n",
    "[0,5,4,3,999,999,999],\n",
    "[999,0,999,2,3,999,11],\n",
    "[999,999, 0,1,999,4,10],\n",
    "[999,999,999, 0,5,6,9],\n",
    "[999,999, 999,999,0,999,4],\n",
    "[999,999, 999,999,999,0,3],\n",
    "[999,999,999,999,999,999,0]\n",
    "]\n",
    "\n",
    "\n",
    "\n",
    "################################################################\n",
    "def Precios(TARIFAS):\n",
    "################################################################\n",
    "  #Total de Nodos\n",
    "  N = len(TARIFAS[0])\n",
    "\n",
    "  #Inicialización de la tabla de precios\n",
    "  PRECIOS = [ [9999]*N for i in [9999]*N]\n",
    "  RUTA = [ [\"\"]*N for i in [\"\"]*N]\n",
    "\n",
    "  for i in range(0,N-1):\n",
    "    RUTA[i][i] = i             #Para ir de i a i se \"pasa por i\"\n",
    "    PRECIOS[i][i] = 0          #Para ir de i a i se se paga 0\n",
    "    for j in range(i+1, N):\n",
    "      MIN = TARIFAS[i][j]\n",
    "      RUTA[i][j] = i\n",
    "      for k in range(i, j):\n",
    "        if PRECIOS[i][k] + TARIFAS[k][j] < MIN:\n",
    "            MIN = min(MIN, PRECIOS[i][k] + TARIFAS[k][j] )\n",
    "            RUTA[i][j] = k     #Anota que para ir de i a j hay que pasar por k\n",
    "        PRECIOS[i][j] = MIN\n",
    "\n",
    "  return PRECIOS,RUTA\n",
    "################################################################\n",
    "\n",
    "\n",
    "PRECIOS,RUTA = Precios(TARIFAS)\n",
    "#print(PRECIOS[0][6])\n",
    "\n",
    "print(\"PRECIOS\")\n",
    "for i in range(len(TARIFAS)):\n",
    "  print(PRECIOS[i])\n",
    "\n",
    "print(\"\\nRUTA\")\n",
    "for i in range(len(TARIFAS)):\n",
    "  print(RUTA[i])\n",
    "\n",
    "#Determinar la ruta con Recursividad\n",
    "def calcular_ruta(RUTA, desde, hasta):\n",
    "  if desde == hasta:\n",
    "    #print(\"Ir a :\" + str(desde))\n",
    "    return \"\"\n",
    "  else:\n",
    "    return str(calcular_ruta( RUTA, desde, RUTA[desde][hasta])) +  \\\n",
    "                ',' + \\\n",
    "                str(RUTA[desde][hasta] \\\n",
    "              )\n",
    "\n",
    "print(\"\\nLa ruta es:\")\n",
    "calcular_ruta(RUTA, 0,6)"
   ]
  },
  {
   "cell_type": "markdown",
   "id": "436Ufp-WuNeo",
   "metadata": {
    "id": "436Ufp-WuNeo"
   },
   "source": [
    "## Encontrar los dos puntos más cercanos"
   ]
  },
  {
   "cell_type": "markdown",
   "id": "n4Lf3_nKuU_X",
   "metadata": {
    "id": "n4Lf3_nKuU_X"
   },
   "source": [
    "**Dimension 1D. Técnica: Fuerza bruta**"
   ]
  },
  {
   "cell_type": "code",
   "execution_count": 1,
   "id": "eSLlrgkjtrMi",
   "metadata": {
    "colab": {
     "base_uri": "https://localhost:8080/"
    },
    "executionInfo": {
     "elapsed": 5,
     "status": "ok",
     "timestamp": 1717055889866,
     "user": {
      "displayName": "Lidia Fabra",
      "userId": "13405305310269667507"
     },
     "user_tz": -120
    },
    "id": "eSLlrgkjtrMi",
    "outputId": "fbf58071-e810-4502-b95c-a0dc1e2b8a5e"
   },
   "outputs": [
    {
     "name": "stdout",
     "output_type": "stream",
     "text": [
      "Los puntos más cercanos son (9089, 9746) con una distancia de 657\n"
     ]
    }
   ],
   "source": [
    "def puntos_cercanos_1d_fuerzaBruta(puntos):\n",
    "    min_distancia = float('inf')\n",
    "    puntos_cercanos = None\n",
    "    n = len(puntos)\n",
    "    #Bucle para comparar un numero con todos los demás\n",
    "    for i in range(n):\n",
    "        for j in range(i + 1, n):\n",
    "            dist = abs(puntos[i] - puntos[j])\n",
    "            if dist < min_distancia:\n",
    "                min_distancia = dist\n",
    "                puntos_cercanos = (puntos[i], puntos[j])\n",
    "\n",
    "    return puntos_cercanos, min_distancia\n",
    "\n",
    "#Con valores manuales, para ver resultado con valores conocidos\n",
    "puntos_1d = [3403, 4537, 9089, 9746, 7259, 5978]\n",
    "pareja_cercana, distancia = puntos_cercanos_1d_fuerzaBruta(puntos_1d)\n",
    "print(f\"Los puntos más cercanos son {pareja_cercana} con una distancia de {distancia}\")"
   ]
  },
  {
   "cell_type": "markdown",
   "id": "FH9Ao_z2w0HI",
   "metadata": {
    "id": "FH9Ao_z2w0HI"
   },
   "source": [
    "La complejidad de este algoritmo es de n^2 porque comparamos cada punto con todos los demás puntos (bucle dentro de bucle)\n",
    "\n",
    "Para mejorar el algoritmo se va a usar la técnica de Divide y Vencerás."
   ]
  },
  {
   "cell_type": "markdown",
   "id": "GM0yX1Fnx6xL",
   "metadata": {
    "id": "GM0yX1Fnx6xL"
   },
   "source": [
    "**Dimension 1D. Técnica: Divide y vencerás**"
   ]
  },
  {
   "cell_type": "code",
   "execution_count": 5,
   "id": "piObKSA3xL8A",
   "metadata": {
    "colab": {
     "base_uri": "https://localhost:8080/"
    },
    "executionInfo": {
     "elapsed": 1378,
     "status": "ok",
     "timestamp": 1717060406361,
     "user": {
      "displayName": "Lidia Fabra",
      "userId": "13405305310269667507"
     },
     "user_tz": -120
    },
    "id": "piObKSA3xL8A",
    "outputId": "95a9fa76-7d0a-498d-97a8-c37701fb30c8"
   },
   "outputs": [
    {
     "name": "stdout",
     "output_type": "stream",
     "text": [
      "Los puntos más cercanos son (5678, 5896) con una distancia de 218\n"
     ]
    }
   ],
   "source": [
    "import random\n",
    "\n",
    "def par_cercano_DivideYVenceras(puntos):\n",
    "    def par_cercano_recursividad(puntos_ord):\n",
    "      # Caso base: Si hay 3 o menos puntos, usar fuerza bruta\n",
    "        if len(puntos_ord) <= 3:\n",
    "            return puntos_cercanos_1d_fuerzaBruta(puntos_ord)\n",
    "\n",
    "        #dividir puntos en dos mitades\n",
    "        mitad = len(puntos_ord) // 2\n",
    "        izq = puntos_ord[:mitad]\n",
    "        dcha = puntos_ord[mitad:]\n",
    "\n",
    "        # Encontrar el par más cercano en cada mitad recursivamente\n",
    "        (p1, q1), dist1 = par_cercano_recursividad(izq) #O(n/2)\n",
    "        (p2, q2), dist2 = par_cercano_recursividad(dcha) #O(n/2)\n",
    "\n",
    "        # Comparar las dos distancias encontradas\n",
    "        min_distancia = min(dist1, dist2)\n",
    "        if dist1 < dist2:\n",
    "            par_cercano = (p1, q1)\n",
    "        else:\n",
    "            par_cercano = (p2, q2)\n",
    "\n",
    "       # Comparar puntos al lado de la línea divisoria de las dos mitades\n",
    "        posible_cercanos = []\n",
    "        punto_medio = puntos_ord[mitad]\n",
    "        # Considerar solo puntos que están a una distancia menor a min_distancia del punto medio\n",
    "        for punto in puntos_ord: # O(n)\n",
    "            if abs(punto - punto_medio) < min_distancia:\n",
    "                posible_cercanos.append(punto)\n",
    "\n",
    "        # Verificar las distancias entre estos puntos considerados\n",
    "        for i in range(len(posible_cercanos)):\n",
    "            for j in range(i + 1, len(posible_cercanos)): #parece n^2 pero no comparamos todos los puntos con todos los demás\n",
    "                if (posible_cercanos[j] - posible_cercanos[i]) >= min_distancia:\n",
    "                    break\n",
    "                d = abs(posible_cercanos[i] - posible_cercanos[j])\n",
    "                if d < min_distancia:\n",
    "                    min_distancia = d\n",
    "                    par_cercano = (posible_cercanos[i], posible_cercanos[j])\n",
    "\n",
    "        return par_cercano, min_distancia\n",
    "\n",
    "    # Ordenar los puntos inicialmente\n",
    "    puntos_ord = sorted(puntos)\n",
    "    return par_cercano_recursividad(puntos_ord)\n",
    "\n",
    "#Con la formula de numeros aleatorios proporcionada por el ejercicio siempre me sale distancia 0\n",
    "#puntos_1d = [random.randrange(1,10000) for x in range(1000)]\n",
    "#Se hace manual para comprobar, ya que con la aleatoriedad siempre me da lo mismo\n",
    "puntos_1d = [3403, 4537, 8089, 9746, 7259, 5896, 1234, 5678]\n",
    "puntos_cercanos, distancia = par_cercano_DivideYVenceras(puntos_1d)\n",
    "print(f\"Los puntos más cercanos son {puntos_cercanos} con una distancia de {distancia}\")"
   ]
  },
  {
   "cell_type": "markdown",
   "id": "EeCVl2018olf",
   "metadata": {
    "id": "EeCVl2018olf"
   },
   "source": [
    "La complejidad ahora es de O(n log n). Aunque parece que la complejidad sea cuadrática por los for anidados, al resolverlo con la técnica Divide y Vencerás el algoritmo se resuelve de forma más eficiente. Por lo tanto, al mejorar la eficiencia se tiene una complejidad de O(n log n) en lugar de O(n^2)"
   ]
  },
  {
   "cell_type": "markdown",
   "id": "x60omC_IgdjY",
   "metadata": {
    "id": "x60omC_IgdjY"
   },
   "source": [
    "**Dimension 2D. Técnica: Divide y vencerás**"
   ]
  },
  {
   "cell_type": "code",
   "execution_count": 9,
   "id": "o94vfpgKgoBs",
   "metadata": {
    "colab": {
     "base_uri": "https://localhost:8080/"
    },
    "executionInfo": {
     "elapsed": 466,
     "status": "ok",
     "timestamp": 1717060486915,
     "user": {
      "displayName": "Lidia Fabra",
      "userId": "13405305310269667507"
     },
     "user_tz": -120
    },
    "id": "o94vfpgKgoBs",
    "outputId": "eb4a0e2e-363e-461a-da14-fa89c8a4e11f"
   },
   "outputs": [
    {
     "name": "stdout",
     "output_type": "stream",
     "text": [
      "Los puntos más cercanos son ((135, 4076), (1122, 6175)) con una distancia de 2319.48\n"
     ]
    }
   ],
   "source": [
    "import math\n",
    "\n",
    "def par_cercano_2d(puntos):\n",
    "  #distancia euclidea entre dos puntos\n",
    "    def distancia_euc(p1, p2):\n",
    "        return math.sqrt((p1[0] - p2[0])**2 + (p1[1] - p2[1])**2)\n",
    "\n",
    "    def par_cercano_recursividad(puntos_orden_x, puntos_orden_y):\n",
    "        if len(puntos_orden_x) <= 3:\n",
    "            return puntos_cercanos_2d_fuerzaBruta(puntos_orden_x)\n",
    "\n",
    "        mitad = len(puntos_orden_x) // 2\n",
    "        izq_x = puntos_orden_x[:mitad]\n",
    "        dcha_x = puntos_orden_x[mitad:]\n",
    "        puntoMedio = puntos_orden_x[mitad][0]\n",
    "\n",
    "        izq_y = [p for p in puntos_orden_y if p[0] <= puntoMedio]\n",
    "        dcha_y = [p for p in puntos_orden_y if p[0] > puntoMedio]\n",
    "\n",
    "        #Llamar a la funcion recursiva para cada mitad\n",
    "        (p1, q1), dist1 = par_cercano_recursividad(izq_x, izq_y)\n",
    "        (p2, q2), dist2 = par_cercano_recursividad(dcha_x, dcha_y)\n",
    "\n",
    "        if dist1 < dist2:\n",
    "            d = dist1\n",
    "            par_cercano = (p1, q1)\n",
    "        else:\n",
    "            d = dist2\n",
    "            par_cercano = (p2, q2)\n",
    "        #franja con puntos cerca del borde, con distancia menor que la minima\n",
    "        franja = [p for p in puntos_orden_y if abs(p[0] - puntoMedio) < d]\n",
    "\n",
    "        for i in range(len(franja)):\n",
    "            for j in range(i + 1, min(i + 7, len(franja))):\n",
    "                p, q = franja[i], franja[j]\n",
    "                dist = distancia_euc(p, q)\n",
    "                if dist < d:\n",
    "                    d = dist\n",
    "                    par_cercano = (p, q)\n",
    "\n",
    "        return par_cercano, d\n",
    "\n",
    "    def puntos_cercanos_2d_fuerzaBruta(puntos):\n",
    "        min_distancia = float('inf')\n",
    "        par_cercano = None\n",
    "        n = len(puntos)\n",
    "        for i in range(n):\n",
    "            for j in range(i + 1, n):\n",
    "                dist = distancia_euc(puntos[i], puntos[j])\n",
    "                if dist < min_distancia:\n",
    "                    min_distancia = dist\n",
    "                    par_cercano = (puntos[i], puntos[j])\n",
    "        return par_cercano, min_distancia\n",
    "\n",
    "    puntos_orden_x = sorted(puntos, key=lambda p: p[0])\n",
    "    puntos_orden_y = sorted(puntos, key=lambda p: p[1])\n",
    "\n",
    "    return par_cercano_recursividad(puntos_orden_x, puntos_orden_y)\n",
    "\n",
    "# Ejemplo de uso\n",
    "puntos_2d = [(1122, 6175), (135, 4076), (7296, 2741), (3403, 4537), (9089, 9746)]\n",
    "puntos_cercanos, distancia = par_cercano_2d(puntos_2d)\n",
    "print(f\"Los puntos más cercanos son {puntos_cercanos} con una distancia de {round(distancia,2)}\")\n",
    "\n"
   ]
  },
  {
   "cell_type": "markdown",
   "id": "KQxVIyvbx_oV",
   "metadata": {
    "id": "KQxVIyvbx_oV"
   },
   "source": [
    "La complejidad sigue siendo O(n log n) debido a que se esta utilizando la técnica de Divide y Vencerás"
   ]
  },
  {
   "cell_type": "markdown",
   "id": "y-duw36XzsRC",
   "metadata": {
    "id": "y-duw36XzsRC"
   },
   "source": [
    "**Dimension 3D. Técnica: Divide y vencerás**"
   ]
  },
  {
   "cell_type": "code",
   "execution_count": 11,
   "id": "mAt0JrPEzst4",
   "metadata": {
    "colab": {
     "base_uri": "https://localhost:8080/"
    },
    "executionInfo": {
     "elapsed": 398,
     "status": "ok",
     "timestamp": 1717068441346,
     "user": {
      "displayName": "Lidia Fabra",
      "userId": "13405305310269667507"
     },
     "user_tz": -120
    },
    "id": "mAt0JrPEzst4",
    "outputId": "9b76c837-2aef-45a5-cef6-ef4ff6fdcb3f"
   },
   "outputs": [
    {
     "name": "stdout",
     "output_type": "stream",
     "text": [
      "Los puntos más cercanos son ((135, 4076, 2390), (1122, 6175, 1023)) con una distancia de 2692.33\n"
     ]
    }
   ],
   "source": [
    "#igual que en 2D pero ahora con tres coordenadas\n",
    "import math\n",
    "\n",
    "def par_cercano_3d(puntos):\n",
    "    def distancia_euc(p1, p2):\n",
    "        return math.sqrt((p1[0] - p2[0])**2 + (p1[1] - p2[1])**2 + (p1[2] - p2[2])**2)\n",
    "\n",
    "    def par_cercano_recursividad(puntos_orden_x, puntos_orden_y, puntos_orden_z):\n",
    "        if len(puntos_orden_x) <= 3:\n",
    "            return puntos_cercanos_3d_fuerzaBruta(puntos_orden_x)\n",
    "\n",
    "        mitad = len(puntos_orden_x) // 2\n",
    "        izq_x = puntos_orden_x[:mitad]\n",
    "        dcha_x = puntos_orden_x[mitad:]\n",
    "        punto_medio = puntos_orden_x[mitad][0]\n",
    "\n",
    "        izq_y = [p for p in puntos_orden_y if p[0] <= punto_medio]\n",
    "        dcha_y = [p for p in puntos_orden_y if p[0] > punto_medio]\n",
    "        izq_z = [p for p in puntos_orden_z if p[0] <= punto_medio]\n",
    "        dcha_z = [p for p in puntos_orden_z if p[0] > punto_medio]\n",
    "\n",
    "        (p1, q1), dist1 = par_cercano_recursividad(izq_x, izq_y, izq_z)\n",
    "        (p2, q2), dist2 = par_cercano_recursividad(dcha_x, dcha_y, dcha_z)\n",
    "\n",
    "        if dist1 < dist2:\n",
    "            d = dist1\n",
    "            par_cercano = (p1, q1)\n",
    "        else:\n",
    "            d = dist2\n",
    "            par_cercano = (p2, q2)\n",
    "        #TODO ¿?¿?\n",
    "        franja = [p for p in puntos_orden_y if abs(p[0] - punto_medio) < d]\n",
    "\n",
    "        for i in range(len(franja)):\n",
    "            for j in range(i + 1, min(i + 7, len(franja))):\n",
    "                p, q = franja[i], franja[j]\n",
    "                dist = distancia_euc(p, q)\n",
    "                if dist < d:\n",
    "                    d = dist\n",
    "                    par_cercano = (p, q)\n",
    "\n",
    "        return par_cercano, d\n",
    "\n",
    "    def puntos_cercanos_3d_fuerzaBruta(puntos):\n",
    "        min_distancia = float('inf')\n",
    "        par_cercano = None\n",
    "        n = len(puntos)\n",
    "        for i in range(n):\n",
    "            for j in range(i + 1, n):\n",
    "                dist = distancia_euc(puntos[i], puntos[j])\n",
    "                if dist < min_distancia:\n",
    "                    min_distancia = dist\n",
    "                    par_cercano = (puntos[i], puntos[j])\n",
    "        return par_cercano, min_distancia\n",
    "\n",
    "    puntos_orden_x = sorted(puntos, key=lambda p: p[0])\n",
    "    puntos_orden_y = sorted(puntos, key=lambda p: p[1])\n",
    "    puntos_orden_z = sorted(puntos, key=lambda p: p[2])\n",
    "\n",
    "    return par_cercano_recursividad(puntos_orden_x, puntos_orden_y, puntos_orden_z)\n",
    "\n",
    "# Ejemplo de uso\n",
    "puntos_3d = [(1122, 6175, 1023), (135, 4076, 2390), (7296, 2741, 4871), (3403, 4537, 1298), (9089, 9746, 3467)]\n",
    "puntos_cercanos, distancia = par_cercano_3d(puntos_3d)\n",
    "#La distancia la quito¿?¿? (en 2 y 3d no tiene sentido)\n",
    "print(f\"Los puntos más cercanos son {puntos_cercanos} con una distancia de {round(distancia,2)}\")\n",
    "\n"
   ]
  },
  {
   "cell_type": "markdown",
   "id": "EZ5O8ncKQhGy",
   "metadata": {
    "id": "EZ5O8ncKQhGy"
   },
   "source": [
    "Complejidad de O(n log n)"
   ]
  }
 ],
 "metadata": {
  "colab": {
   "provenance": []
  },
  "kernelspec": {
   "display_name": "Python 3 (ipykernel)",
   "language": "python",
   "name": "python3"
  },
  "language_info": {
   "codemirror_mode": {
    "name": "ipython",
    "version": 3
   },
   "file_extension": ".py",
   "mimetype": "text/x-python",
   "name": "python",
   "nbconvert_exporter": "python",
   "pygments_lexer": "ipython3",
   "version": "3.12.2"
  }
 },
 "nbformat": 4,
 "nbformat_minor": 5
}
