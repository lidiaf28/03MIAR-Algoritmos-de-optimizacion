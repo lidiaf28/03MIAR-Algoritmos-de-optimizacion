{
 "cells": [
  {
   "cell_type": "markdown",
   "metadata": {
    "id": "hVbXYX-RfPWh"
   },
   "source": [
    "# Algoritmos de optimización - Trabajo Práctico<br>\n",
    "Nombre y Apellidos: Lidia Fabra Cuenca  <br>\n",
    "Url: https://github.com/lidiaf28/03MIAR-Algoritmos-de-optimizacion/blob/main/TrabajoPractico_LidiaFabra.ipynb<br>\n",
    "Problema:\n",
    "> 1. Sesiones de doblaje <br>\n",
    ">2. **Organizar los horarios de partidos de La Liga**<br>\n",
    ">3. Combinar cifras y operaciones\n",
    "\n",
    "## Descripción del problema:\n",
    "\n",
    "Desde La Liga de fútbol profesional se pretende organizar los horarios de los partidos de liga de cada jornada.\n",
    "Se conocen algunos datos que nos deben llevar a diseñar un algoritmo que realice la asignación de los partidos\n",
    "a los horarios de forma que maximice la audiencia.\n",
    "\n",
    "Los horarios disponibles se conocen a priori y son los siguientes (horario 24h):\n",
    "\n",
    "* Viernes: 20.\n",
    "\n",
    "* Sábado: 12, 16, 18, y 20.\n",
    "\n",
    "* Domingo: 12, 16, 18 y 20.\n",
    "\n",
    "* Lunes: 20.\n",
    "\n",
    "En primer lugar se clasifican los equipos en tres categorías según el número de seguidores (que tiene relación\n",
    "directa con la audiencia). Hay 3 equipos en la categoría A, 11 equipos de categoría B y 6 equipos de categoría C\n",
    "\n",
    "Se conoce estadísticamente la audiencia que genera cada partido según los equipos que se enfrentan y en\n",
    "horario de sábado a las 20h (el mejor en todos los casos):\n",
    "\n",
    "* Categoría A-A: 2 millones.\n",
    "\n",
    "* Categoría A-B: 1.3 millones.\n",
    "\n",
    "* Categoría A-C: 1 millón.\n",
    "\n",
    "* Categoría B-B: 0.9 millones.\n",
    "\n",
    "* Categoría B-C: 0.75 millones.\n",
    "\n",
    "* Categoría C-C: 0.47 millones.\n",
    "\n",
    "Si el horario del partido no se realiza a las 20 horas del sábado se sabe que se reduce según los coeficientes\n",
    "siguientes (horarios de 24h):\n",
    "\n",
    "* Viernes 20: 0.4\n",
    "\n",
    "* Sábado 12: 0.55\n",
    "\n",
    "* Sábado 16: 0.7\n",
    "\n",
    "* Sábado 18: 0.8\n",
    "\n",
    "* Sábado 20: 1\n",
    "\n",
    "* Domingo 12: 0.45\n",
    "\n",
    "* Domingo 16: 0.75\n",
    "\n",
    "* Domingo 18: 0.85\n",
    "\n",
    "* Domingo 20: 1\n",
    "\n",
    "* Lunes 20: 0.4\n",
    "\n",
    "Debemos asignar obligatoriamente siempre un partido el viernes y un partido el lunes.\n",
    "\n",
    "Es posible la coincidencia de horarios pero en este caso la audiencia de cada partido se verá afectada y se\n",
    "estima que se reduce en porcentaje según la siguiente tabla dependiendo del número de coincidencias:\n",
    "\n",
    "* 0 coincidencias: 0%\n",
    "\n",
    "* 1 coincidencias: 25%\n",
    "\n",
    "* 2 coincidencias: 45%\n",
    "\n",
    "* 3 coincidencias: 60%\n",
    "\n",
    "* 4 coincidencias: 70%\n",
    "\n",
    "* 5 coincidencias: 75%\n",
    "\n",
    "* 6 coincidencias: 78%\n",
    "\n",
    "* 7 coincidencias: 80%\n",
    "\n",
    "* 8 coincidencias: 80%\n",
    "\n",
    "De esta forma se podrán realizar los cálculos necesarios para cada jornada.\n",
    "            "
   ]
  },
  {
   "cell_type": "markdown",
   "metadata": {
    "id": "3_-exlrTgLd-"
   },
   "source": [
    "### (*)¿Cuantas posibilidades hay sin tener en cuenta las restricciones?<br>\n",
    "\n",
    "Con los datos del enunciado se puede observar que hay 10 horarios disponibles, para los 10 partidos que debe haber (20 equipos, juegan 2 por partido) para cada jornada.\n",
    "\n",
    "En este caso, cada uno de los 10 partidos puede jugarse en cualquiera de los 10 horarios disponibles. No se tiene en cuenta cuántos partidos pueden coincidir en el mismo horario, ni restricciones de audiencia o categorías.\n",
    "\n",
    "Por lo tanto, el número total de combinaciones posibles sin restricciones es:\n",
    "\n",
    "$10^{10}$\n"
   ]
  },
  {
   "cell_type": "markdown",
   "metadata": {
    "id": "iq6Fe32MgpDX"
   },
   "source": [
    "### ¿Cuantas posibilidades hay teniendo en cuenta todas las restricciones?\n",
    "\n",
    "Si tenemos en cuenta las restricciones, sabemos que si o si debe haber partidos el viernes y el lunes. Asignando un partido al viernes quedan 9 partidos, y luego otro al lunes, quedan 8.\n",
    "El resto de cruces se repartiran en 10^7 combinaciones posibles.\n",
    "\n",
    "Por tanto, el número total de combinaciones posibles con restricciones es (por jornada):\n",
    "\n",
    "9 * 8 * $10^7$\n",
    "\n"
   ]
  },
  {
   "cell_type": "markdown",
   "metadata": {
    "id": "dzynfVJahHoY"
   },
   "source": [
    "## Modelo para el espacio de soluciones<br>\n",
    "### (*)¿Cual es la estructura de datos que mejor se adapta al problema? Argumentalo.\n"
   ]
  },
  {
   "cell_type": "markdown",
   "metadata": {
    "id": "38c-7-ejhJmA"
   },
   "source": [
    "Se han utilizado diccionarios para organizar la información del problema de manera estructurada y eficiente. Los diccionarios permiten asociar claves con valores, facilitando el acceso rápido a datos específicos, como los coeficientes de horario y las audiencias por categorías de equipos. Esta estructura es ideal para consultar o actualizar la información de manera ágil.\n",
    "\n",
    "Por otro lado, se ha empleado una lista para almacenar todos los horarios disponibles y gestionar la asignación de estos horarios a los partidos. También se ha utilizado una lista con las reducciones de coincidencias para ajustar la audiencia en función del número de partidos que coinciden en un horario. Al gestionar los índices de la lista, resulta sencillo buscar el coeficiente de reducción correspondiente al número de partidos repetidos. Además, se ha empleado una lista para los nombres de los equipos a repartir en los partidos."
   ]
  },
  {
   "cell_type": "markdown",
   "metadata": {
    "id": "7Z9U2W7bi-XS"
   },
   "source": [
    "\n",
    "### (*)¿Cual es la función objetivo? ¿Es un problema de maximización o minimización?\n",
    "\n",
    "La función objetivo en este problema de optimización es maximizar la audiencia total de los partidos a lo largo de una jornada, teniendo en cuenta lo siguiente:\n",
    "\n",
    "- Categoria equipo: Audiencia base según las categorías de los equipos que juegan el partido.\n",
    "\n",
    "- Coeficiente Horario: Coeficiente que depende del horario en el que se juega el partido.\n",
    "\n",
    "- Coincidencia partido: El porcentaje de reducción por coincidencia de partidos en el mismo horario.\n",
    "\n",
    "- I(viernes y lunes) es un indicador que toma el valor 1 si hay un partido el viernes y otro el lunes, y 0 en caso contrario.\n",
    "\n",
    "Por tanto, para el calculo de la audiencia se tendrá en cuenta la siguiente fórmula:\n",
    "\n",
    "                Audiencia Total = Σ (audiencia_categoria * coef_horario * (1 - coincidencias)) * I(viernes y lunes)\n",
    "\n",
    "\n"
   ]
  },
  {
   "cell_type": "markdown",
   "metadata": {
    "id": "rlnTYgY1j6I2"
   },
   "source": [
    "### Diseña un algoritmo para resolver el problema por fuerza bruta"
   ]
  },
  {
   "cell_type": "code",
   "execution_count": 1,
   "metadata": {
    "executionInfo": {
     "elapsed": 1181,
     "status": "ok",
     "timestamp": 1727085386018,
     "user": {
      "displayName": "Lidia Fabra",
      "userId": "13405305310269667507"
     },
     "user_tz": -120
    },
    "id": "SpzqroeU2PE8"
   },
   "outputs": [],
   "source": [
    "import pandas as pd\n",
    "import numpy as np\n",
    "import itertools\n",
    "import random"
   ]
  },
  {
   "cell_type": "code",
   "execution_count": 2,
   "metadata": {},
   "outputs": [],
   "source": [
    "horarios = [\n",
    "    'viernes 20:00',\n",
    "    'sabado 12:00',\n",
    "    'sabado 16:00',\n",
    "    'sabado 18:00',\n",
    "    'sabado 20:00',\n",
    "    'domingo 12:00',\n",
    "    'domingo 16:00',\n",
    "    'domingo 18:00',\n",
    "    'domingo 20:00',\n",
    "    'lunes 20:00'\n",
    "]\n",
    "audiencia_categoria = {\n",
    "    ('A', 'A'): 2_000_000,\n",
    "    ('A', 'B'): 1_300_000,\n",
    "    ('A', 'C'): 1_000_000,\n",
    "    ('B', 'B'): 900_000,\n",
    "    ('B', 'C'): 750_000,\n",
    "    ('C', 'C'): 470_000\n",
    "}\n",
    "coef_horario = {\n",
    "    'viernes 20:00': 0.4,\n",
    "    'sabado 12:00': 0.55,\n",
    "    'sabado 16:00': 0.7,\n",
    "    'sabado 18:00': 0.8,\n",
    "    'sabado 20:00': 1,\n",
    "    'domingo 12:00': 0.45,\n",
    "    'domingo 16:00': 0.75,\n",
    "    'domingo 18:00': 0.85,\n",
    "    'domingo 20:00': 1,\n",
    "    'lunes 20:00': 0.4\n",
    "}\n",
    "\n",
    "reduccion_coincidencias = [0, 0.25, 0.45, 0.60, 0.70, 0.75, 0.78, 0.80, 0.80]\n",
    "\n",
    "equipos = ['Valencia', 'Real Madrid', 'Barcelona', 'Atlético Madrid', 'Sevilla', 'Betis',\n",
    "           'Athletic Club', 'Real Sociedad', 'Villarreal', 'Espanyol', 'Granada', 'Osasuna',\n",
    "           'Levante', 'Mallorca', 'Cádiz', 'Almería', 'Rayo Vallecano', 'Elche', 'Getafe', 'Celta']"
   ]
  },
  {
   "cell_type": "code",
   "execution_count": 3,
   "metadata": {
    "colab": {
     "base_uri": "https://localhost:8080/"
    },
    "executionInfo": {
     "elapsed": 105423,
     "status": "ok",
     "timestamp": 1727089467099,
     "user": {
      "displayName": "Lidia Fabra",
      "userId": "13405305310269667507"
     },
     "user_tz": -120
    },
    "id": "70rDgxYXkC8r",
    "outputId": "833419c4-4af8-4459-c2f6-01f5920f7042"
   },
   "outputs": [
    {
     "name": "stdout",
     "output_type": "stream",
     "text": [
      "Mejor asignación de horarios y partidos:\n",
      "\n",
      "Jornada 1:\n",
      "('Real Sociedad', 'Mallorca'): sabado 12:00\n",
      "('Elche', 'Sevilla'): viernes 20:00\n",
      "('Celta', 'Getafe'): domingo 12:00\n",
      "('Almería', 'Athletic Club'): lunes 20:00\n",
      "('Valencia', 'Osasuna'): sabado 20:00\n",
      "('Barcelona', 'Granada'): domingo 18:00\n",
      "('Real Madrid', 'Levante'): domingo 20:00\n",
      "('Espanyol', 'Cádiz'): sabado 16:00\n",
      "('Villarreal', 'Betis'): sabado 18:00\n",
      "('Rayo Vallecano', 'Atlético Madrid'): domingo 16:00\n",
      "\n",
      "Jornada 2:\n",
      "('Levante', 'Sevilla'): sabado 16:00\n",
      "('Real Sociedad', 'Granada'): viernes 20:00\n",
      "('Valencia', 'Athletic Club'): sabado 20:00\n",
      "('Elche', 'Osasuna'): lunes 20:00\n",
      "('Espanyol', 'Atlético Madrid'): sabado 18:00\n",
      "('Barcelona', 'Getafe'): domingo 20:00\n",
      "('Cádiz', 'Mallorca'): sabado 12:00\n",
      "('Real Madrid', 'Almería'): domingo 18:00\n",
      "('Betis', 'Rayo Vallecano'): domingo 16:00\n",
      "('Villarreal', 'Celta'): domingo 12:00\n",
      "\n",
      "Máxima audiencia total para 2 jornadas: 12146500.0\n"
     ]
    }
   ],
   "source": [
    "def generar_partidos(equipos): # Generar 10 partidos aleatorios sin repetir equipos\n",
    "    equipos_disponibles = equipos.copy()  \n",
    "    random.shuffle(equipos_disponibles)\n",
    "    partidos = []\n",
    "\n",
    "    while len(equipos_disponibles) >= 2:\n",
    "        equipo1 = equipos_disponibles.pop(0)\n",
    "        equipo2 = equipos_disponibles.pop(0) \n",
    "        partidos.append((equipo1, equipo2))\n",
    "\n",
    "    return partidos\n",
    "\n",
    "# Función objetivo\n",
    "def calcular_audiencia(audiencia_categoria, coef_horario, num_coincidencias):\n",
    "    coincidencia = reduccion_coincidencias[num_coincidencias]\n",
    "    return audiencia_categoria * coef_horario * (1 - coincidencia)\n",
    "\n",
    "def verificar_equipos(asignacion, partidos_jornada):\n",
    "    equipos_asignados = set()\n",
    "    for i, partido in enumerate(partidos_jornada):\n",
    "        equipo_local, equipo_visitante = partido\n",
    "        if equipo_local in equipos_asignados or equipo_visitante in equipos_asignados:\n",
    "            return False\n",
    "        equipos_asignados.add(equipo_local)\n",
    "        equipos_asignados.add(equipo_visitante)\n",
    "    return True\n",
    "\n",
    "\n",
    "def calcular_audiencia_total(asignacion,partidos_jornada):\n",
    "    audiencia_total = 0\n",
    "    horario_count = {h: 0 for h in horarios}  # {clave: valor for item in iterador}\n",
    "    if 'viernes 20:00' not in asignacion or 'lunes 20:00' not in asignacion:\n",
    "        return 0  # Si falta un partido en esos días, la audiencia es 0\n",
    "    for i, partido in enumerate(partidos_jornada):\n",
    "        equipo1, equipo2 = partido\n",
    "        categoria1 = 'A' if equipo1 in ['Valencia', 'Barcelona', 'Real Madrid'] else ('C' if equipo1 in ['Granada', 'Almería', 'Mallorca', 'Elche', 'Real Sociedad','Celta'] else 'B')\n",
    "        categoria2 = 'A' if equipo2 in ['Valencia', 'Barcelona', 'Real Madrid'] else ('C' if equipo2 in ['Granada', 'Almería', 'Mallorca', 'Elche', 'Real Sociedad', 'Celta'] else 'B')\n",
    "\n",
    "        #buscar en diccionario la audiencia segun categorias\n",
    "        audiencia_base = audiencia_categoria.get((categoria1, categoria2), 0)\n",
    "        horario = asignacion[i] #horario asignado\n",
    "        coef = coef_horario[horario]#coeficiente segun horario\n",
    "        num_coincidencias = horario_count[horario] #num partidos a la misma hora\n",
    "\n",
    "        audiencia_total += calcular_audiencia(audiencia_base, coef, num_coincidencias)\n",
    "\n",
    "        horario_count[horario] += 1 # Incremento de partidos en ese horario\n",
    "\n",
    "    return audiencia_total\n",
    "\n",
    "def generar_jornadas(k, equipos):\n",
    "    jornadas = {}\n",
    "    for jornada in range(k):\n",
    "        partidos_jornada = generar_partidos(equipos)\n",
    "        jornadas[jornada + 1] = partidos_jornada\n",
    "    return jornadas\n",
    "\n",
    "def fuerza_bruta(k):\n",
    "\n",
    "    jornadas = generar_jornadas(k, equipos)\n",
    "    max_audiencia = 0\n",
    "    mejor_asignacion_dict = {}\n",
    "    max_audiencia_total = 0\n",
    "\n",
    "    for jornada, partidos_jornada in jornadas.items():\n",
    "        max_audiencia = 0\n",
    "        mejor_asignacion = None\n",
    "\n",
    "        # Buscar la mejor asignación para la jornada actual\n",
    "        for asignacion in itertools.permutations(horarios, len(partidos_jornada)):\n",
    "            if verificar_equipos(asignacion,partidos_jornada):\n",
    "                audiencia_total = calcular_audiencia_total(asignacion,partidos_jornada)\n",
    "\n",
    "                if audiencia_total > max_audiencia:\n",
    "                    max_audiencia = audiencia_total\n",
    "                    mejor_asignacion = asignacion\n",
    "        # Diccionario que asocia cada partido con su horario\n",
    "        mejor_asignacion_dict[jornada] = {partido: horario for partido, horario in zip(partidos_jornada, mejor_asignacion)} #{clave: valor for elemento in iterador}\n",
    "        max_audiencia_total += max_audiencia\n",
    "\n",
    "    return mejor_asignacion_dict, max_audiencia_total\n",
    "\n",
    "# Ejecución del algoritmo por fuerza bruta\n",
    "k=2\n",
    "mejor_asignacion, max_audiencia = fuerza_bruta(k)\n",
    "\n",
    "print(\"Mejor asignación de horarios y partidos:\")\n",
    "\n",
    "for jornada, asignacion in mejor_asignacion.items():\n",
    "    print(f\"\\nJornada {jornada}:\")\n",
    "    for partido, horario in asignacion.items():\n",
    "        print(f\"{partido}: {horario}\")\n",
    "\n",
    "print(f\"\\nMáxima audiencia total para {k} jornadas: {max_audiencia}\")\n"
   ]
  },
  {
   "cell_type": "markdown",
   "metadata": {
    "id": "tgrnsC2nkFa8"
   },
   "source": [
    "### Calcula la complejidad del algoritmo por fuerza bruta"
   ]
  },
  {
   "cell_type": "markdown",
   "metadata": {
    "id": "9eUd3xwckP68"
   },
   "source": [
    "Para cada permutación, se recorren todos los partidos. Si tienes n partidos y n horarios, el número total de formas en que puedes asignar esos horarios a los partidos es n!\n",
    "\n",
    "Por ejemplo: Para 5 partidos seria\n",
    "5! = 120 asignaciones posibles.\n",
    "Para 10 partidos:\n",
    "10! = 3,628,800 asignaciones posibles.\n",
    "\n",
    "Si consideramos que se puede tener un número distinto de horarios, la situación puede variar, pero generalmente, al usar todos los horarios disponibles, las permutaciones se mantendrán en n!. Si tenemos en cuenta k jornadas, se necesita evaluar todas las combinaciones posibles de horarios en cada jornada. Esto significa que la complejidad se multiplica por k, lo que da una complejidad total de O(k*n!) Este tipo de complejidad es bastante alta y se vuelve inviable para valores grandes de n y k."
   ]
  },
  {
   "cell_type": "markdown",
   "metadata": {
    "id": "txbrmLmskReM"
   },
   "source": [
    "### (*) Diseña un algoritmo que mejore la complejidad del algortimo por fuerza bruta. Argumenta porque crees que mejora el algoritmo por fuerza bruta"
   ]
  },
  {
   "cell_type": "markdown",
   "metadata": {
    "id": "hLrVwt5QkZPD"
   },
   "source": [
    "Una opción para mejorar el algoritmo de fuerza bruta es emplear técnicas heurísticas para reducir la complejidad del problema. Aunque una técnica determinista podría garantizar la solución óptima al problema, el coste computacional asociado a este enfoque aumenta cuando el número de partidos o jornadas crece. Para este tipo de problemas, donde el espacio de búsqueda crece exponencialmente, una técnica determinista resulta ineficaz para problemas de mayor escala, como cuando consideramos múltiples jornadas de liga.\n",
    "\n",
    "En este caso, se propone una solución mediante Búsqueda Local. Esta técnica comienza con una asignación inicial de horarios y realiza pequeños cambios iterativos para mejorarla. De este modo, se puede empezar con una asignación de horarios aleatoria y luego iterar para intercambiar horarios entre partidos con el objetivo de maximizar la audiencia total.\n",
    "\n",
    "Este enfoque proporciona una forma práctica y efectiva de encontrar una solución cercana a la óptima, evitando el examen exhaustivo de todas las combinaciones posibles y ofreciendo una solución escalable cuando el problema crece en tamaño."
   ]
  },
  {
   "cell_type": "code",
   "execution_count": 4,
   "metadata": {
    "colab": {
     "base_uri": "https://localhost:8080/"
    },
    "executionInfo": {
     "elapsed": 213,
     "status": "ok",
     "timestamp": 1727089327366,
     "user": {
      "displayName": "Lidia Fabra",
      "userId": "13405305310269667507"
     },
     "user_tz": -120
    },
    "id": "m1eyM21Vkabg",
    "outputId": "634c4706-33da-44f6-e1df-5f0e965392fc"
   },
   "outputs": [
    {
     "name": "stdout",
     "output_type": "stream",
     "text": [
      "Mejor asignación de horarios y partidos:\n",
      "\n",
      "Jornada 1:\n",
      "('Atlético Madrid', 'Villarreal'): sabado 18:00\n",
      "('Getafe', 'Sevilla'): domingo 16:00\n",
      "('Celta', 'Granada'): viernes 20:00\n",
      "('Almería', 'Elche'): sabado 16:00\n",
      "('Real Sociedad', 'Valencia'): lunes 20:00\n",
      "('Athletic Club', 'Rayo Vallecano'): domingo 18:00\n",
      "('Espanyol', 'Levante'): sabado 20:00\n",
      "('Betis', 'Osasuna'): sabado 12:00\n",
      "('Real Madrid', 'Mallorca'): domingo 20:00\n",
      "('Cádiz', 'Barcelona'): domingo 12:00\n",
      "\n",
      "Jornada 2:\n",
      "('Getafe', 'Athletic Club'): sabado 18:00\n",
      "('Espanyol', 'Granada'): domingo 16:00\n",
      "('Real Madrid', 'Barcelona'): domingo 20:00\n",
      "('Almería', 'Elche'): viernes 20:00\n",
      "('Mallorca', 'Betis'): sabado 12:00\n",
      "('Celta', 'Cádiz'): sabado 16:00\n",
      "('Sevilla', 'Atlético Madrid'): domingo 18:00\n",
      "('Real Sociedad', 'Villarreal'): lunes 20:00\n",
      "('Osasuna', 'Valencia'): domingo 12:00\n",
      "('Rayo Vallecano', 'Levante'): sabado 20:00\n",
      "\n",
      "Máxima audiencia total para 2 jornadas: 10207500.0\n"
     ]
    }
   ],
   "source": [
    "def generar_vecino(asignacion):\n",
    "    # nueva solución vecina intercambiando dos horarios de la asignación actual.\n",
    "    nuevo_asignacion = asignacion[:]\n",
    "    i, j = random.sample(range(len(asignacion)), 2) # 2 indices aleatorios\n",
    "    nuevo_asignacion[i], nuevo_asignacion[j] = nuevo_asignacion[j], nuevo_asignacion[i]\n",
    "    return nuevo_asignacion\n",
    "\n",
    "def busqueda_local(k):\n",
    "    mejor_asignacion_dict = {}\n",
    "    max_audiencia_total = 0\n",
    "\n",
    "    for jornada in range(1, k + 1):\n",
    "        partidos_jornada = generar_partidos(equipos)\n",
    "        mejor_asignacion = random.sample(horarios, len(partidos_jornada))\n",
    "        mejor_audiencia = calcular_audiencia_total(mejor_asignacion,partidos_jornada)\n",
    "\n",
    "        while True:\n",
    "            mejorado = False\n",
    "            for _ in range(len(partidos_jornada)):\n",
    "                vecino = generar_vecino(mejor_asignacion)\n",
    "                audiencia_vecino = calcular_audiencia_total(vecino,partidos_jornada)\n",
    "\n",
    "                if audiencia_vecino > mejor_audiencia:\n",
    "                    mejor_asignacion = vecino\n",
    "                    mejor_audiencia = audiencia_vecino\n",
    "                    mejorado = True\n",
    "\n",
    "            if not mejorado:  # no hay mejoras, se sale\n",
    "                break\n",
    "\n",
    "        # Diccionario que asocia cada partido con su horario\n",
    "        mejor_asignacion_dict[jornada] = {partido: horario for partido, horario in zip(partidos_jornada, mejor_asignacion)}\n",
    "        max_audiencia_total += mejor_audiencia\n",
    "\n",
    "    return mejor_asignacion_dict, max_audiencia_total\n",
    "\n",
    "# Ejecución del algoritmo de búsqueda local\n",
    "k = 2\n",
    "mejor_asignacion, mejor_audiencia = busqueda_local(k)\n",
    "\n",
    "print(\"Mejor asignación de horarios y partidos:\")\n",
    "\n",
    "for jornada, asignacion in mejor_asignacion.items():\n",
    "    print(f\"\\nJornada {jornada}:\")\n",
    "    for partido, horario in asignacion.items():\n",
    "        print(f\"{partido}: {horario}\")\n",
    "\n",
    "print(f\"\\nMáxima audiencia total para {k} jornadas: {mejor_audiencia}\")"
   ]
  },
  {
   "cell_type": "markdown",
   "metadata": {
    "id": "eGDB4K6uk1iN"
   },
   "source": [
    "### (*)Calcula la complejidad del algoritmo"
   ]
  },
  {
   "cell_type": "markdown",
   "metadata": {
    "id": "NhpTh_BPk1ms"
   },
   "source": [
    "Con este algoritmo, la complejidad se reduce a O(k*n*m), donde:\n",
    "\n",
    "- n es el número de partidos.\n",
    "\n",
    "- m es el número de iteraciones hasta encontrar una solución localmente óptima\n",
    "\n",
    "- k es el numero de jornadas\n",
    "\n",
    "  \n",
    "Con esta complejidad se obtiene una escala linealmente tanto con n como con k, lo que la hace más eficiente y adecuada para escenarios de mayor tamaño.\n",
    "\n",
    "De esta manera, se busca una solución cercana a la óptima evitando el cálculo exhaustivo de todas las permutaciones posibles. En lugar de explorar todas las posibles asignaciones de horarios, la búsqueda local se centra en mejorar una solución existente realizando pequeños cambios en la asignación actual.\n",
    "Esto hace que la búsqueda local sea significativamente más eficiente en términos de tiempo, especialmente para problemas de tamaño relativamente grande, ya que no necesita evaluar todas las permutaciones posibles. Aunque no garantiza encontrar la mejor solución global, proporciona una solución buena en un tiempo mucho más reducido, lo que lo convierte en una opción práctica y efectiva para problemas complejos."
   ]
  },
  {
   "cell_type": "markdown",
   "metadata": {
    "id": "3M6QjTsSkmYe"
   },
   "source": [
    "### Según el problema (y tenga sentido), diseña un juego de datos de entrada aleatorios"
   ]
  },
  {
   "cell_type": "markdown",
   "metadata": {
    "id": "Jc3_OlyNkvjZ"
   },
   "source": [
    "Se va a diseñar un juego de datos aleatorios variando los coeficientes de audiencia y categorías de los equipos, y con el numero de jornadas aleatorio."
   ]
  },
  {
   "cell_type": "code",
   "execution_count": 5,
   "metadata": {
    "executionInfo": {
     "elapsed": 217,
     "status": "ok",
     "timestamp": 1727090078994,
     "user": {
      "displayName": "Lidia Fabra",
      "userId": "13405305310269667507"
     },
     "user_tz": -120
    },
    "id": "0hrogvoa2PE_"
   },
   "outputs": [],
   "source": [
    "\n",
    "coef_horario = {\n",
    "    'viernes 20:00': round(random.uniform(0.3, 0.5), 2),\n",
    "    'sabado 12:00': round(random.uniform(0.5, 0.6), 2),\n",
    "    'sabado 16:00': round(random.uniform(0.6, 0.8), 2),\n",
    "    'sabado 18:00': round(random.uniform(0.7, 0.9), 2),\n",
    "    'sabado 20:00': 1,  #horario de máxima audiencia segun enunciado\n",
    "    'domingo 12:00': round(random.uniform(0.4, 0.5), 2),\n",
    "    'domingo 16:00': round(random.uniform(0.7, 0.8), 2),\n",
    "    'domingo 18:00': round(random.uniform(0.8, 0.9), 2),\n",
    "    'domingo 20:00': 1, #horario de máxima audiencia segun enunciado\n",
    "    'lunes 20:00': round(random.uniform(0.3, 0.5), 2)\n",
    "}\n",
    "\n",
    "audiencia_categoria_aleatoria = {\n",
    "    ('A', 'A'): random.randint(1_800_000, 2_200_000), # rango valores más altos para los partidos A\n",
    "    ('A', 'B'): random.randint(1_200_000, 1_400_000),\n",
    "    ('A', 'C'): random.randint(900_000, 1_100_000),\n",
    "    ('B', 'B'): random.randint(800_000, 1_000_000),\n",
    "    ('B', 'C'): random.randint(600_000, 800_000),\n",
    "    ('C', 'C'): random.randint(400_000, 500_000)\n",
    "}"
   ]
  },
  {
   "cell_type": "markdown",
   "metadata": {
    "id": "zy5ZROmjlGo1"
   },
   "source": [
    "### Aplica el algoritmo al juego de datos generado"
   ]
  },
  {
   "cell_type": "code",
   "execution_count": 6,
   "metadata": {
    "colab": {
     "base_uri": "https://localhost:8080/"
    },
    "executionInfo": {
     "elapsed": 200,
     "status": "ok",
     "timestamp": 1727090154194,
     "user": {
      "displayName": "Lidia Fabra",
      "userId": "13405305310269667507"
     },
     "user_tz": -120
    },
    "id": "_Cmj-PVylMsa",
    "outputId": "d44d11b3-2058-4d5f-e4e0-0d8b5814b770"
   },
   "outputs": [
    {
     "name": "stdout",
     "output_type": "stream",
     "text": [
      "\n",
      "Número de jornadas: 7\n",
      "Mejor asignación de horarios y partidos (con datos aleatorios):\n",
      "\n",
      "Jornada 1:\n",
      "('Espanyol', 'Elche'): sabado 12:00\n",
      "('Sevilla', 'Getafe'): domingo 18:00\n",
      "('Athletic Club', 'Real Sociedad'): lunes 20:00\n",
      "('Villarreal', 'Cádiz'): sabado 16:00\n",
      "('Osasuna', 'Almería'): viernes 20:00\n",
      "('Atlético Madrid', 'Celta'): sabado 18:00\n",
      "('Betis', 'Barcelona'): domingo 12:00\n",
      "('Rayo Vallecano', 'Levante'): domingo 16:00\n",
      "('Valencia', 'Granada'): domingo 20:00\n",
      "('Real Madrid', 'Mallorca'): sabado 20:00\n",
      "\n",
      "Jornada 2:\n",
      "('Getafe', 'Rayo Vallecano'): domingo 20:00\n",
      "('Villarreal', 'Mallorca'): sabado 16:00\n",
      "('Espanyol', 'Atlético Madrid'): domingo 16:00\n",
      "('Elche', 'Athletic Club'): lunes 20:00\n",
      "('Levante', 'Valencia'): domingo 12:00\n",
      "('Barcelona', 'Osasuna'): sabado 20:00\n",
      "('Celta', 'Real Madrid'): viernes 20:00\n",
      "('Granada', 'Almería'): sabado 12:00\n",
      "('Sevilla', 'Cádiz'): domingo 18:00\n",
      "('Betis', 'Real Sociedad'): sabado 18:00\n",
      "\n",
      "Jornada 3:\n",
      "('Barcelona', 'Rayo Vallecano'): sabado 20:00\n",
      "('Celta', 'Granada'): viernes 20:00\n",
      "('Elche', 'Valencia'): lunes 20:00\n",
      "('Athletic Club', 'Cádiz'): sabado 16:00\n",
      "('Levante', 'Osasuna'): sabado 18:00\n",
      "('Real Madrid', 'Sevilla'): domingo 20:00\n",
      "('Atlético Madrid', 'Villarreal'): domingo 16:00\n",
      "('Almería', 'Mallorca'): domingo 12:00\n",
      "('Getafe', 'Real Sociedad'): sabado 12:00\n",
      "('Espanyol', 'Betis'): domingo 18:00\n",
      "\n",
      "Jornada 4:\n",
      "('Real Madrid', 'Villarreal'): sabado 20:00\n",
      "('Celta', 'Sevilla'): domingo 12:00\n",
      "('Rayo Vallecano', 'Cádiz'): domingo 16:00\n",
      "('Almería', 'Elche'): sabado 18:00\n",
      "('Barcelona', 'Real Sociedad'): domingo 20:00\n",
      "('Levante', 'Valencia'): lunes 20:00\n",
      "('Atlético Madrid', 'Betis'): domingo 18:00\n",
      "('Mallorca', 'Osasuna'): sabado 12:00\n",
      "('Athletic Club', 'Getafe'): sabado 16:00\n",
      "('Espanyol', 'Granada'): viernes 20:00\n",
      "\n",
      "Jornada 5:\n",
      "('Cádiz', 'Celta'): sabado 16:00\n",
      "('Villarreal', 'Mallorca'): sabado 12:00\n",
      "('Betis', 'Sevilla'): domingo 20:00\n",
      "('Elche', 'Athletic Club'): viernes 20:00\n",
      "('Granada', 'Barcelona'): domingo 12:00\n",
      "('Getafe', 'Rayo Vallecano'): sabado 18:00\n",
      "('Real Madrid', 'Atlético Madrid'): sabado 20:00\n",
      "('Osasuna', 'Real Sociedad'): domingo 16:00\n",
      "('Almería', 'Valencia'): lunes 20:00\n",
      "('Levante', 'Espanyol'): domingo 18:00\n",
      "\n",
      "Jornada 6:\n",
      "('Villarreal', 'Espanyol'): domingo 18:00\n",
      "('Sevilla', 'Real Sociedad'): sabado 20:00\n",
      "('Elche', 'Betis'): domingo 16:00\n",
      "('Mallorca', 'Osasuna'): sabado 16:00\n",
      "('Granada', 'Getafe'): lunes 20:00\n",
      "('Celta', 'Cádiz'): viernes 20:00\n",
      "('Barcelona', 'Valencia'): domingo 20:00\n",
      "('Atlético Madrid', 'Athletic Club'): sabado 18:00\n",
      "('Almería', 'Levante'): sabado 12:00\n",
      "('Rayo Vallecano', 'Real Madrid'): domingo 12:00\n",
      "\n",
      "Jornada 7:\n",
      "('Sevilla', 'Getafe'): domingo 16:00\n",
      "('Osasuna', 'Granada'): sabado 18:00\n",
      "('Barcelona', 'Valencia'): sabado 20:00\n",
      "('Elche', 'Betis'): lunes 20:00\n",
      "('Levante', 'Athletic Club'): sabado 16:00\n",
      "('Celta', 'Cádiz'): viernes 20:00\n",
      "('Real Madrid', 'Espanyol'): domingo 18:00\n",
      "('Villarreal', 'Atlético Madrid'): domingo 20:00\n",
      "('Rayo Vallecano', 'Real Sociedad'): sabado 12:00\n",
      "('Mallorca', 'Almería'): domingo 12:00\n",
      "\n",
      "Máxima audiencia total: 37558000.0\n"
     ]
    }
   ],
   "source": [
    "k = random.randint(1, 10)\n",
    "mejor_asignacion, mejor_audiencia = busqueda_local(k)\n",
    "\n",
    "print(f\"\\nNúmero de jornadas: {k}\")\n",
    "print(\"Mejor asignación de horarios y partidos (con datos aleatorios):\")\n",
    "\n",
    "for jornada, asignacion in mejor_asignacion.items():\n",
    "    print(f\"\\nJornada {jornada}:\")\n",
    "    for partido, horario in asignacion.items():\n",
    "        print(f\"{partido}: {horario}\")\n",
    "\n",
    "print(f\"\\nMáxima audiencia total: {mejor_audiencia}\")"
   ]
  },
  {
   "cell_type": "markdown",
   "metadata": {
    "id": "kAkDPUyRtYyH"
   },
   "source": [
    "### Describe brevemente las lineas de como crees que es posible avanzar en el estudio del problema. Ten en cuenta incluso posibles variaciones del problema y/o variaciones al alza del tamaño"
   ]
  },
  {
   "cell_type": "markdown",
   "metadata": {
    "id": "IE0uZmo-tZu-"
   },
   "source": [
    "Como posible avance en el estudio del problema, se podría explorar la implementacion de algoritmos genéticos como otra solución de optimización.Estos algoritmos podrian ofrecer soluciones mas eficientes a medida que se incrementara el numero de partidos y jornadas.Además, sería interesante analizar el impacto de variaciones en los coeficientes de audiencia y las categorías de equipos en los resultados, así como considerar la incorporación de restricciones adicionales, como las preferencias de los equipos o limitaciones logísticas, para hacer el modelo más realista y aplicable a situaciones del mundo real"
   ]
  }
 ],
 "metadata": {
  "colab": {
   "provenance": []
  },
  "kernelspec": {
   "display_name": "Python 3 (ipykernel)",
   "language": "python",
   "name": "python3"
  },
  "language_info": {
   "codemirror_mode": {
    "name": "ipython",
    "version": 3
   },
   "file_extension": ".py",
   "mimetype": "text/x-python",
   "name": "python",
   "nbconvert_exporter": "python",
   "pygments_lexer": "ipython3",
   "version": "3.11.9"
  }
 },
 "nbformat": 4,
 "nbformat_minor": 4
}
